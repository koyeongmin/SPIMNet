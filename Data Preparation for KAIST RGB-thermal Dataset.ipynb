{
 "cells": [
  {
   "cell_type": "code",
   "execution_count": 13,
   "metadata": {},
   "outputs": [
    {
     "name": "stderr",
     "output_type": "stream",
     "text": [
      "/usr/local/lib/python3.6/dist-packages/ipykernel_launcher.py:49: FutureWarning: arrays to stack must be passed as a \"sequence\" type such as list or tuple. Support for non-sequence iterables such as generators is deprecated as of NumPy 1.16 and will raise an error in the future.\n"
     ]
    },
    {
     "name": "stdout",
     "output_type": "stream",
     "text": [
      "Number of positive patches in training dataset:  1192224\n"
     ]
    }
   ],
   "source": [
    "# Extract positive pairs for training\n",
    "import os\n",
    "import numpy as np\n",
    "import PIL\n",
    "from PIL import Image\n",
    "import random\n",
    "\n",
    "folders_train_set = ['set00', 'set01', 'set02', 'set03', 'set04', 'set05']\n",
    "folders_v         = ['V000', 'V001', 'V002', 'V003', 'V004', 'V005', 'V006', 'V007', 'V008']\n",
    "\n",
    "path = '/home/shared_dir/research/SPIMNet/KAIST_RGB_Thermal/'\n",
    "path_train_save = '/home/shared_dir/research/SPIMNet/KAIST_RGB_Thermal/processed/pose_train/'\n",
    "\n",
    "frame_jump = 45\n",
    "pixel_step = 12\n",
    "patch_side = 32\n",
    "\n",
    "cnt = 0\n",
    "for folder1 in folders_train_set:\n",
    "    for folder2 in folders_v:\n",
    "        color_path   = '{}/{}/{}/visible'.format(path, folder1, folder2)\n",
    "        thermal_path = '{}/{}/{}/lwir'.format(path, folder1, folder2)\n",
    "        \n",
    "        file_cnt = 0\n",
    "        for pack in os.walk(color_path):\n",
    "            for f in pack[2]:\n",
    "                file_cnt += 1                \n",
    "        \n",
    "        for scene in range(0, file_cnt, frame_jump):\n",
    "            color_img   = color_path + '/I{}.jpg'.format(str(scene).zfill(5))\n",
    "            thermal_img = thermal_path + '/I{}.jpg'.format(str(scene).zfill(5))\n",
    "        \n",
    "            list_im = [thermal_img, color_img]\n",
    "            imgs    = [PIL.Image.open(i) for i in list_im]\n",
    "        \n",
    "            W, H = imgs[0].size\n",
    "        \n",
    "            imgs[0] = imgs[0].convert(\"RGB\")\n",
    "            imgs[1] = imgs[1].convert(\"RGB\")            \n",
    "            \n",
    "            # extract patches            \n",
    "            for i in range(H//2-patch_side*2, H-patch_side*2, pixel_step):\n",
    "                for j in range(patch_side, W-patch_side, pixel_step):                    \n",
    "                    crop_th  = imgs[0].crop((j-patch_side, i-patch_side, j+patch_side, i+patch_side))\n",
    "                    crop_clr = imgs[1].crop((j-patch_side, i-patch_side, j+patch_side, i+patch_side))\n",
    "                        \n",
    "                    pos = [crop_th, crop_clr]\n",
    "\n",
    "                    imgs_comb = np.hstack((np.asarray(i) for i in pos))\n",
    "                    imgs_comb = PIL.Image.fromarray(imgs_comb)\n",
    "                    save_path = '{}/{}.jpg'.format(path_train_save, cnt)\n",
    "                    imgs_comb.save(save_path)\n",
    "                    cnt += 1            \n",
    "            \n",
    "print('Number of positive patches in training dataset: ', cnt)"
   ]
  },
  {
   "cell_type": "code",
   "execution_count": 1,
   "metadata": {},
   "outputs": [
    {
     "name": "stderr",
     "output_type": "stream",
     "text": [
      "/usr/local/lib/python3.6/dist-packages/ipykernel_launcher.py:33: FutureWarning: arrays to stack must be passed as a \"sequence\" type such as list or tuple. Support for non-sequence iterables such as generators is deprecated as of NumPy 1.16 and will raise an error in the future.\n"
     ]
    },
    {
     "name": "stdout",
     "output_type": "stream",
     "text": [
      "Number of negative patches in training dataset:  1192224\n"
     ]
    }
   ],
   "source": [
    "# Extract negative pairs from positive pairs for training\n",
    "import random\n",
    "import os\n",
    "import numpy as np\n",
    "import PIL\n",
    "from PIL import Image\n",
    "\n",
    "path_train      = '/home/shared_dir/research/SPIMNet/KAIST_RGB_Thermal/processed/pose_train'\n",
    "path_save_train = '/home/shared_dir/research/SPIMNet/KAIST_RGB_Thermal/processed/neg_train'\n",
    "\n",
    "file_cnt_train = 1192224\n",
    "cnt = 0\n",
    "positive_list = list( range(0, file_cnt_train) )\n",
    "random.shuffle(positive_list)\n",
    "\n",
    "for i in positive_list:\n",
    "    ran_num = random.randint(0, file_cnt_train - 1)\n",
    "    while ran_num == i:\n",
    "        ran_num = random.randint(0, file_cnt_train - 1)\n",
    "        \n",
    "    th_patch_path  = '{}/{}.jpg'.format(path_train, ran_num)\n",
    "    clr_patch_path = '{}/{}.jpg'.format(path_train, i)\n",
    "    \n",
    "    clr_patch = PIL.Image.open(clr_patch_path)\n",
    "    th_patch  = PIL.Image.open(th_patch_path)\n",
    "\n",
    "    neg_clr_crop = clr_patch.crop((64, 0, 128, 64))\n",
    "    neg_th_crop  = th_patch.crop((0, 0, 64, 64))\n",
    "    width2, height2 = neg_th_crop.size\n",
    "    \n",
    "    neg = [neg_th_crop, neg_clr_crop]\n",
    "    \n",
    "    imgs_comb = np.hstack((np.asarray(j) for j in neg))\n",
    "    imgs_comb = PIL.Image.fromarray(imgs_comb)\n",
    "    save_path = '{}/{}.jpg'.format(path_save_train, cnt)\n",
    "    imgs_comb.save(save_path)\n",
    "    cnt += 1\n",
    "    \n",
    "print('Number of negative patches in training dataset: ', cnt)"
   ]
  },
  {
   "cell_type": "code",
   "execution_count": 2,
   "metadata": {},
   "outputs": [
    {
     "name": "stderr",
     "output_type": "stream",
     "text": [
      "/usr/local/lib/python3.6/dist-packages/ipykernel_launcher.py:20: FutureWarning: arrays to stack must be passed as a \"sequence\" type such as list or tuple. Support for non-sequence iterables such as generators is deprecated as of NumPy 1.16 and will raise an error in the future.\n"
     ]
    },
    {
     "name": "stdout",
     "output_type": "stream",
     "text": [
      "Number of merged patches in training dataset\n"
     ]
    }
   ],
   "source": [
    "## Merge postive and negative pairs for training\n",
    "import os\n",
    "import numpy as np\n",
    "import PIL\n",
    "from PIL import Image\n",
    "\n",
    "path_pos_train  = '/home/shared_dir/research/SPIMNet/KAIST_RGB_Thermal/processed/pose_train'\n",
    "path_neg_train  = '/home/shared_dir/research/SPIMNet/KAIST_RGB_Thermal/processed/neg_train'\n",
    "path_save_train = '/home/shared_dir/research/SPIMNet/KAIST_RGB_Thermal/processed/train_set'\n",
    "\n",
    "file_cnt_pos_train = 1192224\n",
    "for i in range(0, file_cnt_pos_train):\n",
    "    pos_patch_path  = '{}/{}.jpg'.format(path_pos_train, i)\n",
    "    neg_patch_path  = '{}/{}.jpg'.format(path_neg_train, i)\n",
    "    pos_patch = PIL.Image.open(pos_patch_path)\n",
    "    neg_patch = PIL.Image.open(neg_patch_path)\n",
    "   \n",
    "    merge = [pos_patch, neg_patch]\n",
    "    \n",
    "    imgs_comb = np.hstack((np.asarray(j) for j in merge))\n",
    "    imgs_comb = PIL.Image.fromarray(imgs_comb)\n",
    "    save_path = '{}/{}.jpg'.format(path_save_train, i)\n",
    "    imgs_comb.save(save_path)\n",
    "    \n",
    "print('Number of merged patches in training dataset')"
   ]
  },
  {
   "cell_type": "code",
   "execution_count": 8,
   "metadata": {},
   "outputs": [
    {
     "name": "stdout",
     "output_type": "stream",
     "text": [
      "set06   - file_cnt:  1523\n"
     ]
    },
    {
     "name": "stderr",
     "output_type": "stream",
     "text": [
      "/usr/local/lib/python3.6/dist-packages/ipykernel_launcher.py:51: FutureWarning: arrays to stack must be passed as a \"sequence\" type such as list or tuple. Support for non-sequence iterables such as generators is deprecated as of NumPy 1.16 and will raise an error in the future.\n"
     ]
    },
    {
     "name": "stdout",
     "output_type": "stream",
     "text": [
      "set06   - file_cnt:  2691\n",
      "set06   - file_cnt:  1688\n",
      "set06   - file_cnt:  4285\n",
      "set06   - file_cnt:  2800\n",
      "set06   - file_cnt:  0\n",
      "set06   - file_cnt:  0\n",
      "set06   - file_cnt:  0\n",
      "set06   - file_cnt:  0\n",
      "Number of positive patches in testing dataset:  307296\n",
      "set07   - file_cnt:  2544\n",
      "set07   - file_cnt:  4000\n",
      "set07   - file_cnt:  1597\n",
      "set07   - file_cnt:  0\n",
      "set07   - file_cnt:  0\n",
      "set07   - file_cnt:  0\n",
      "set07   - file_cnt:  0\n",
      "set07   - file_cnt:  0\n",
      "set07   - file_cnt:  0\n",
      "Number of positive patches in testing dataset:  192192\n",
      "set08   - file_cnt:  2578\n",
      "set08   - file_cnt:  2972\n",
      "set08   - file_cnt:  2500\n",
      "set08   - file_cnt:  0\n",
      "set08   - file_cnt:  0\n",
      "set08   - file_cnt:  0\n",
      "set08   - file_cnt:  0\n",
      "set08   - file_cnt:  0\n",
      "set08   - file_cnt:  0\n",
      "Number of positive patches in testing dataset:  191136\n",
      "set09   - file_cnt:  3500\n",
      "set09   - file_cnt:  0\n",
      "set09   - file_cnt:  0\n",
      "set09   - file_cnt:  0\n",
      "set09   - file_cnt:  0\n",
      "set09   - file_cnt:  0\n",
      "set09   - file_cnt:  0\n",
      "set09   - file_cnt:  0\n",
      "set09   - file_cnt:  0\n",
      "Number of positive patches in testing dataset:  82368\n",
      "set10   - file_cnt:  4708\n",
      "set10   - file_cnt:  4194\n",
      "set10   - file_cnt:  0\n",
      "set10   - file_cnt:  0\n",
      "set10   - file_cnt:  0\n",
      "set10   - file_cnt:  0\n",
      "set10   - file_cnt:  0\n",
      "set10   - file_cnt:  0\n",
      "set10   - file_cnt:  0\n",
      "Number of positive patches in testing dataset:  210144\n",
      "set11   - file_cnt:  2020\n",
      "set11   - file_cnt:  1540\n",
      "set11   - file_cnt:  0\n",
      "set11   - file_cnt:  0\n",
      "set11   - file_cnt:  0\n",
      "set11   - file_cnt:  0\n",
      "set11   - file_cnt:  0\n",
      "set11   - file_cnt:  0\n",
      "set11   - file_cnt:  0\n",
      "Number of positive patches in testing dataset:  84480\n"
     ]
    }
   ],
   "source": [
    "# Extract positive pairs for testing\n",
    "import os\n",
    "import numpy as np\n",
    "import PIL\n",
    "from PIL import Image\n",
    "import random\n",
    "\n",
    "folders_test_set  = ['set06', 'set07', 'set08', 'set09', 'set10', 'set11']\n",
    "folders_v         = ['V000', 'V001', 'V002', 'V003', 'V004', 'V005', 'V006', 'V007', 'V008']\n",
    "\n",
    "path            = '/home/shared_dir/research/SPIMNet/KAIST_RGB_Thermal'\n",
    "path_test_save  = '/home/shared_dir/research/SPIMNet/KAIST_RGB_Thermal/processed/pose_test'\n",
    "\n",
    "frame_jump = 45\n",
    "pixel_step = 12\n",
    "patch_side = 32\n",
    "\n",
    "for folder1 in folders_test_set:\n",
    "    cnt = 0\n",
    "    for folder2 in folders_v:\n",
    "        color_path   = '{}/{}/{}/visible'.format(path, folder1, folder2)\n",
    "        thermal_path = '{}/{}/{}/lwir'.format(path, folder1, folder2)\n",
    "        \n",
    "        file_cnt = 0\n",
    "        for pack in os.walk(color_path):\n",
    "            for f in pack[2]:\n",
    "                file_cnt += 1\n",
    "        \n",
    "        print(folder1, '  - file_cnt: ', file_cnt)\n",
    "               \n",
    "        for scene in range(0, file_cnt, frame_jump):\n",
    "            color_img   = color_path + '/I{}.jpg'.format(str(scene).zfill(5))\n",
    "            thermal_img = thermal_path + '/I{}.jpg'.format(str(scene).zfill(5))\n",
    "        \n",
    "            list_im = [thermal_img, color_img]\n",
    "            imgs    = [PIL.Image.open(i) for i in list_im]\n",
    "        \n",
    "            W, H = imgs[0].size\n",
    "        \n",
    "            imgs[0] = imgs[0].convert(\"RGB\")\n",
    "            imgs[1] = imgs[1].convert(\"RGB\")            \n",
    "            \n",
    "            # extract patches\n",
    "            for i in range(H//2-patch_side*2, H-patch_side*2, pixel_step):\n",
    "                for j in range(patch_side, W-patch_side, pixel_step):                    \n",
    "                    crop_th  = imgs[0].crop((j-patch_side, i-patch_side, j+patch_side, i+patch_side))\n",
    "                    crop_clr = imgs[1].crop((j-patch_side, i-patch_side, j+patch_side, i+patch_side))\n",
    "                        \n",
    "                    pos = [crop_th, crop_clr]\n",
    "\n",
    "                    imgs_comb = np.hstack((np.asarray(i) for i in pos))\n",
    "                    imgs_comb = PIL.Image.fromarray(imgs_comb)\n",
    "                    save_path    = '{}/{}/{}.jpg'.format(path_test_save, folder1, cnt)\n",
    "                    imgs_comb.save(save_path)\n",
    "                    cnt += 1            \n",
    "            \n",
    "    print('Number of positive patches in testing dataset: ', cnt)"
   ]
  },
  {
   "cell_type": "code",
   "execution_count": 7,
   "metadata": {
    "scrolled": true
   },
   "outputs": [
    {
     "name": "stdout",
     "output_type": "stream",
     "text": [
      "set06 307296\n"
     ]
    },
    {
     "name": "stderr",
     "output_type": "stream",
     "text": [
      "/usr/local/lib/python3.6/dist-packages/ipykernel_launcher.py:44: FutureWarning: arrays to stack must be passed as a \"sequence\" type such as list or tuple. Support for non-sequence iterables such as generators is deprecated as of NumPy 1.16 and will raise an error in the future.\n"
     ]
    },
    {
     "name": "stdout",
     "output_type": "stream",
     "text": [
      "set07 192192\n",
      "set08 191136\n",
      "set09 82368\n",
      "set10 210144\n",
      "set11 84480\n",
      "Number of negative patches in testing dataset\n"
     ]
    }
   ],
   "source": [
    "# Extract negative pairs from positive pairs for testing\n",
    "import random\n",
    "import os\n",
    "import numpy as np\n",
    "import PIL\n",
    "from PIL import Image\n",
    "\n",
    "path_train     = '/home/shared_dir/research/SPIMNet/KAIST_RGB_Thermal/processed/pose_test'\n",
    "path_test_save = '/home/shared_dir/research/SPIMNet/KAIST_RGB_Thermal/processed/neg_test'\n",
    "\n",
    "folders_test_set  = ['set06', 'set07', 'set08', 'set09', 'set10', 'set11']\n",
    "folders_v         = ['V000', 'V001', 'V002', 'V003', 'V004', 'V005', 'V006', 'V007', 'V008']\n",
    "\n",
    "file_sizes = [307296, 192192, 191136, 82368, 210144, 84480]\n",
    "\n",
    "cnt = 0\n",
    "\n",
    "for f_idx in range(6):\n",
    "    file_cnt = file_sizes[f_idx]\n",
    "    folder   = folders_test_set[f_idx] \n",
    "    \n",
    "    print(folder, file_cnt)\n",
    "    \n",
    "    positive_list = list( range(0, file_cnt) )\n",
    "    random.shuffle(positive_list)\n",
    "\n",
    "    for i in positive_list:\n",
    "        ran_num = random.randint(0, file_cnt - 1)\n",
    "        while ran_num == i:\n",
    "            ran_num = random.randint(0, file_cnt - 1)\n",
    "\n",
    "        th_patch_path  = '{}/{}/{}.jpg'.format(path_train, folder, ran_num)\n",
    "        clr_patch_path = '{}/{}/{}.jpg'.format(path_train, folder, i)\n",
    "\n",
    "        clr_patch = PIL.Image.open(clr_patch_path)\n",
    "        th_patch  = PIL.Image.open(th_patch_path)\n",
    "\n",
    "        neg_clr_crop = clr_patch.crop((64, 0, 128, 64))\n",
    "        neg_th_crop  = th_patch.crop((0, 0, 64, 64))\n",
    "        width2, height2 = neg_th_crop.size\n",
    "\n",
    "        neg = [neg_th_crop, neg_clr_crop]\n",
    "\n",
    "        imgs_comb = np.hstack((np.asarray(j) for j in neg))\n",
    "        imgs_comb = PIL.Image.fromarray(imgs_comb)\n",
    "        save_path = '{}/{}/{}.jpg'.format(path_test_save, folder, cnt)\n",
    "        imgs_comb.save(save_path)\n",
    "        cnt += 1\n",
    "    \n",
    "print('Number of negative patches in testing dataset')"
   ]
  },
  {
   "cell_type": "code",
   "execution_count": 8,
   "metadata": {},
   "outputs": [
    {
     "name": "stderr",
     "output_type": "stream",
     "text": [
      "/usr/local/lib/python3.6/dist-packages/ipykernel_launcher.py:25: FutureWarning: arrays to stack must be passed as a \"sequence\" type such as list or tuple. Support for non-sequence iterables such as generators is deprecated as of NumPy 1.16 and will raise an error in the future.\n"
     ]
    },
    {
     "name": "stdout",
     "output_type": "stream",
     "text": [
      "Number of merged patches in testing dataset\n"
     ]
    }
   ],
   "source": [
    "## Merge postive and negative pairs for testing\n",
    "import os\n",
    "import numpy as np\n",
    "import PIL\n",
    "from PIL import Image\n",
    "\n",
    "path_pos_train  = '/home/shared_dir/research/SPIMNet/KAIST_RGB_Thermal/processed/pose_test'\n",
    "path_neg_train  = '/home/shared_dir/research/SPIMNet/KAIST_RGB_Thermal/processed/neg_test'\n",
    "path_test_save  = '/home/shared_dir/research/SPIMNet/KAIST_RGB_Thermal/processed/test_set'\n",
    "\n",
    "file_sizes = [307296, 192192, 191136, 82368, 210144, 84480]\n",
    "\n",
    "for f_idx in range(6):\n",
    "    file_cnt = file_sizes[f_idx]\n",
    "    folder   = folders_test_set[f_idx]  \n",
    "    \n",
    "    for i in range(file_cnt):\n",
    "        pos_patch_path  = '{}/{}/{}.jpg'.format(path_pos_train, folder, i)\n",
    "        neg_patch_path  = '{}/{}/{}.jpg'.format(path_neg_train, folder, i)\n",
    "        pos_patch = PIL.Image.open(pos_patch_path)\n",
    "        neg_patch = PIL.Image.open(neg_patch_path)\n",
    "\n",
    "        merge = [pos_patch, neg_patch]\n",
    "\n",
    "        imgs_comb = np.hstack((np.asarray(j) for j in merge))\n",
    "        imgs_comb = PIL.Image.fromarray(imgs_comb)\n",
    "        save_path = '{}/{}/{}.jpg'.format(path_test_save, folder, i)\n",
    "        imgs_comb.save(save_path)\n",
    "    \n",
    "print('Number of merged patches in testing dataset')"
   ]
  },
  {
   "cell_type": "code",
   "execution_count": null,
   "metadata": {},
   "outputs": [],
   "source": []
  }
 ],
 "metadata": {
  "kernelspec": {
   "display_name": "Python 3",
   "language": "python",
   "name": "python3"
  },
  "language_info": {
   "codemirror_mode": {
    "name": "ipython",
    "version": 3
   },
   "file_extension": ".py",
   "mimetype": "text/x-python",
   "name": "python",
   "nbconvert_exporter": "python",
   "pygments_lexer": "ipython3",
   "version": "3.6.9"
  }
 },
 "nbformat": 4,
 "nbformat_minor": 2
}
